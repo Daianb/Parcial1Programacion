{
  "nbformat": 4,
  "nbformat_minor": 0,
  "metadata": {
    "colab": {
      "provenance": [],
      "authorship_tag": "ABX9TyNU3wiKDbjECLAwQkdxCbLP",
      "include_colab_link": true
    },
    "kernelspec": {
      "name": "python3",
      "display_name": "Python 3"
    },
    "language_info": {
      "name": "python"
    }
  },
  "cells": [
    {
      "cell_type": "markdown",
      "metadata": {
        "id": "view-in-github",
        "colab_type": "text"
      },
      "source": [
        "<a href=\"https://colab.research.google.com/github/Daianb/Parcial1Programacion/blob/master/Parcial1Programacion.ipynb\" target=\"_parent\"><img src=\"https://colab.research.google.com/assets/colab-badge.svg\" alt=\"Open In Colab\"/></a>"
      ]
    },
    {
      "cell_type": "markdown",
      "source": [
        "Estudiante D: Implemente un metodo que\n",
        "\n",
        "1. Reciba una lista de listas (matriz) donde cada elemento sea un número complejo en formato cadena y lo guarde de alguna manera en un atributo. Un ejemplo de lo que se le puede ingresar es [[\"2 - 3i,\"-i],[\"4\",\"-5+2i\"]]\n",
        "2. Implemente el metodo _ _ str _ _ para imprimir la matriz\n",
        "3. Implemente los metodos _ _ mul _ _ y _ _ rmul_ _ para multiplicar matrices entre si teniendo en cuenta que las matrices no son necesariamente conmutativas\n",
        "4. Implemente la suma de matrices y resta por medio del metodo _ _ add_ _ y _ _ sub_ _\n",
        "\n",
        "Si se pide que construya una clase que pueda hacer algo, debe implementar un ejemplo de uso en el codigo.\n"
      ],
      "metadata": {
        "id": "VyM7kUc20RDQ"
      }
    },
    {
      "cell_type": "code",
      "source": [
        "import math\n",
        "\n",
        "class MatrizCompleja:\n",
        "    def __init__(self, matriz):\n",
        "        self.matriz = [[complex(cadena) for cadena in fila] for fila in matriz]  \n",
        "        \n",
        "    def __str__(self):\n",
        "        return '\\n'.join([' '.join([str(elem) for elem in fila]) for fila in self.matriz])  \n",
        "    \n",
        "    def __mul__(self, otra):\n",
        "        if len(self.matriz[0]) != len(otra.matriz):\n",
        "            raise ValueError(\"Las matrices no pueden ser multiplicadas\")                          \n",
        "        res = MatrizCompleja([[0 for j in range(len(otra.matriz[0]))] for i in range(len(self.matriz))]) \n",
        "        \n",
        "        for i in range(len(self.matriz)):\n",
        "            for j in range(len(otra.matriz[0])):\n",
        "                for k in range(len(otra.matriz)):\n",
        "                    res.matriz[i][j] += self.matriz[i][k] * otra.matriz[k][j]\n",
        "        return res\n",
        "    \n",
        "    def __rmul__(self, otra):\n",
        "        if not isinstance(otra, int) and not isinstance(otra, float) and not isinstance(otra, complex):  \n",
        "            raise TypeError(\"La matriz solo puede ser multiplicada por un escalar o un numero complejo\")   \n",
        "        res = MatrizCompleja(self.matriz)\n",
        "        \n",
        "        for i in range(len(self.matriz)):\n",
        "            for j in range(len(self.matriz[0])):\n",
        "                res.matriz[i][j] *= otra             \n",
        "        return res\n",
        "    \n",
        "    def __add__(self, otra):\n",
        "        if len(self.matriz) != len(otra.matriz) or len(self.matriz[0]) != len(otra.matriz[0]):\n",
        "            raise ValueError(\"Las matrices deben tener las mismas dimensiones\")    \n",
        "        res = MatrizCompleja(self.matriz)\n",
        "        \n",
        "        for i in range(len(self.matriz)):\n",
        "            for j in range(len(self.matriz[0])):\n",
        "                res.matriz[i][j] += otra.matriz[i][j]      \n",
        "        return res\n",
        "    \n",
        "    def __sub__(self, otra):\n",
        "        if len(self.matriz) != len(otra.matriz) or len(self.matriz[0]) != len(otra.matriz[0]):\n",
        "            raise ValueError(\"Las matrices deben tener las mismas dimensiones\")\n",
        "        res = MatrizCompleja(self.matriz)\n",
        "        \n",
        "        for i in range(len(self.matriz)):\n",
        "            for j in range(len(self.matriz[0])):\n",
        "                res.matriz[i][j] -= otra.matriz[i][j]               \n",
        "        return res\n",
        "\n",
        "# Ejemplo de uso\n",
        "A = MatrizCompleja([[\"2-3j\", \"-1+2j\"], [\"0+1j\", \"4+0j\"]])\n",
        "B = MatrizCompleja([[\"3+2j\", \"0-1j\"], [\"1+1j\", \"-2-3j\"]])\n",
        "\n",
        "\n",
        "print('-'*5,\"A x B =\",'-'*5)\n",
        "print(A * B)\n",
        "\n",
        "print('-'*5,\"3A =\",'-'*5)\n",
        "print(3 * A)\n",
        "\n",
        "print('-'*5,\"A + B =\",'-'*5)\n",
        "print(A + B)\n",
        "\n",
        "print('-'*5,\"A - B =\",'-'*5)\n",
        "print(A - B)\n",
        "\n",
        "print('-'*5,\"B x A =\",'-'*5)\n",
        "print(B * A)"
      ],
      "metadata": {
        "colab": {
          "base_uri": "https://localhost:8080/"
        },
        "id": "94xGn-nghA55",
        "outputId": "dc8e1abe-ea64-4581-e247-00f95d351108"
      },
      "execution_count": 1,
      "outputs": [
        {
          "output_type": "stream",
          "name": "stdout",
          "text": [
            "----- A x B = -----\n",
            "(9-4j) (5-3j)\n",
            "(2+7j) (-7-12j)\n",
            "----- 3A = -----\n",
            "(6-9j) (-3+6j)\n",
            "3j (12+0j)\n",
            "----- A + B = -----\n",
            "(5-1j) (-1+1j)\n",
            "(1+2j) (2-3j)\n",
            "----- A - B = -----\n",
            "(-1-5j) (-1+3j)\n",
            "(-1+0j) (6+3j)\n",
            "----- B x A = -----\n",
            "(13-5j) (-7+0j)\n",
            "(8-3j) (-11-11j)\n"
          ]
        }
      ]
    }
  ]
}