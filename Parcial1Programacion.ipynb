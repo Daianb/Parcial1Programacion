{
  "nbformat": 4,
  "nbformat_minor": 0,
  "metadata": {
    "colab": {
      "provenance": [],
      "authorship_tag": "ABX9TyN42+VX7muPQa/ng8QAZY2O",
      "include_colab_link": true
    },
    "kernelspec": {
      "name": "python3",
      "display_name": "Python 3"
    },
    "language_info": {
      "name": "python"
    }
  },
  "cells": [
    {
      "cell_type": "markdown",
      "metadata": {
        "id": "view-in-github",
        "colab_type": "text"
      },
      "source": [
        "<a href=\"https://colab.research.google.com/github/Daianb/Parcial1Programacion/blob/master/Parcial1Programacion.ipynb\" target=\"_parent\"><img src=\"https://colab.research.google.com/assets/colab-badge.svg\" alt=\"Open In Colab\"/></a>"
      ]
    },
    {
      "cell_type": "markdown",
      "source": [
        "Estudiante D: Implemente un metodo que\n",
        "\n",
        "1. Reciba una lista de listas (matriz) donde cada elemento sea un número complejo en formato cadena y lo guarde de alguna manera en un atributo. Un ejemplo de lo que se le puede ingresar es [[\"2 - 3i,\"-i],[\"4\",\"-5+2i\"]]\n",
        "2. Implemente el metodo _ _ str _ _ para imprimir la matriz\n",
        "3. Implemente los metodos _ _ mul _ _ y _ _rmul_ _ para multiplicar matrices entre si teniendo en cuenta que las matrices no son necesariamente conmutativas\n",
        "4. Implemente la suma de matrices y resta por medio del metodo _ _add_ _ y _ _sub_ _\n",
        "\n",
        "Si se pide que construya una clase que pueda hacer algo, debe implementar un ejemplo de uso ene l codigo.\n"
      ],
      "metadata": {
        "id": "VyM7kUc20RDQ"
      }
    },
    {
      "cell_type": "code",
      "source": [
        "#Punto 1. "
      ],
      "metadata": {
        "id": "sOa8jrrk0eUI"
      },
      "execution_count": null,
      "outputs": []
    }
  ]
}