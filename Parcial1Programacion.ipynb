{
  "nbformat": 4,
  "nbformat_minor": 0,
  "metadata": {
    "colab": {
      "provenance": [],
      "authorship_tag": "ABX9TyPIMQRdWhHgVKj8bzGI6JQb",
      "include_colab_link": true
    },
    "kernelspec": {
      "name": "python3",
      "display_name": "Python 3"
    },
    "language_info": {
      "name": "python"
    }
  },
  "cells": [
    {
      "cell_type": "markdown",
      "metadata": {
        "id": "view-in-github",
        "colab_type": "text"
      },
      "source": [
        "<a href=\"https://colab.research.google.com/github/Daianb/Parcial1Programacion/blob/master/Parcial1Programacion.ipynb\" target=\"_parent\"><img src=\"https://colab.research.google.com/assets/colab-badge.svg\" alt=\"Open In Colab\"/></a>"
      ]
    },
    {
      "cell_type": "markdown",
      "source": [
        "Estudiante D: Implemente un metodo que\n",
        "\n",
        "1. Reciba una lista de listas (matriz) donde cada elemento sea un número complejo en formato cadena y lo guarde de alguna manera en un atributo. Un ejemplo de lo que se le puede ingresar es [[\"2 - 3i,\"-i],[\"4\",\"-5+2i\"]]\n",
        "2. Implemente el metodo _ _ str _ _ para imprimir la matriz\n",
        "3. Implemente los metodos _ _ mul _ _ y _ _ rmul_ _ para multiplicar matrices entre si teniendo en cuenta que las matrices no son necesariamente conmutativas\n",
        "4. Implemente la suma de matrices y resta por medio del metodo _ _ add_ _ y _ _ sub_ _\n",
        "\n",
        "Si se pide que construya una clase que pueda hacer algo, debe implementar un ejemplo de uso en el codigo.\n"
      ],
      "metadata": {
        "id": "VyM7kUc20RDQ"
      }
    },
    {
      "cell_type": "code",
      "source": [
        "import math\n",
        "\n",
        "class MatrizCompleja:\n",
        "    \n",
        "    def __init__(self, matriz):\n",
        "        self.matriz = []\n",
        "        for fila in matriz:\n",
        "            nueva_fila = []\n",
        "            for numero in fila:\n",
        "                if type(numero) == str:\n",
        "                    parte_real = parte_imaginaria = 0\n",
        "                    partes = numero.split(\"+\")\n",
        "                    for parte in partes:\n",
        "                        if \"-\" in parte:\n",
        "                            signo = -1\n",
        "                            parte = parte[1:]\n",
        "                        else:\n",
        "                            signo = 1\n",
        "                        if \"i\" in parte:\n",
        "                            parte_imaginaria += signo * float(parte[:-1])\n",
        "                        else:\n",
        "                            parte_real += signo * float(parte)\n",
        "                    nueva_fila.append(complex(parte_real, parte_imaginaria))\n",
        "                else:\n",
        "                    nueva_fila.append(numero)\n",
        "            self.matriz.append(nueva_fila)\n",
        "    \n",
        "    def __str__(self):\n",
        "        return \"\\n\".join([\" \".join([str(numero) for numero in fila]) for fila in self.matriz])\n",
        "    \n",
        "    def __mul__(self, otra_matriz):\n",
        "        if len(self.matriz[0]) != len(otra_matriz.matriz):\n",
        "            raise ValueError(\"Las matrices no se pueden multiplicar\")\n",
        "        resultado = []\n",
        "        for i in range(len(self.matriz)):\n",
        "            fila = []\n",
        "            for j in range(len(otra_matriz.matriz[0])):\n",
        "                producto = 0\n",
        "                for k in range(len(self.matriz[0])):\n",
        "                    producto += self.matriz[i][k] * otra_matriz.matriz[k][j]\n",
        "                fila.append(producto)\n",
        "            resultado.append(fila)\n",
        "        return MatrizCompleja(resultado)\n",
        "    \n",
        "    def __rmul__(self, escalar):\n",
        "        resultado = []\n",
        "        for i in range(len(self.matriz)):\n",
        "            fila = []\n",
        "            for j in range(len(self.matriz[0])):\n",
        "                fila.append(escalar * self.matriz[i][j])\n",
        "            resultado.append(fila)\n",
        "        return MatrizCompleja(resultado)\n",
        "    \n",
        "    def __add__(self, otra_matriz):\n",
        "        if len(self.matriz) != len(otra_matriz.matriz) or len(self.matriz[0]) != len(otra_matriz.matriz[0]):\n",
        "            raise ValueError(\"Las matrices deben ser del mismo tamaño\")\n",
        "        resultado = []\n",
        "        for i in range(len(self.matriz)):\n",
        "            fila = []\n",
        "            for j in range(len(self.matriz[0])):\n",
        "                fila.append(self.matriz[i][j] + otra_matriz.matriz[i][j])\n",
        "            resultado.append(fila)\n",
        "        return MatrizCompleja(resultado)\n",
        "    \n",
        "    def __sub__(self, otra_matriz):\n",
        "        if len(self.matriz) != len(otra_matriz.matriz) or len(self.matriz[0]) != len(otra_matriz.matriz[0]):\n",
        "            raise ValueError(\"Las matrices deben ser del mismo tamaño\")\n",
        "        resultado = []\n",
        "        for i in range(len(self.matriz)):\n",
        "            fila = []\n",
        "            for j in range(len(self.matriz[0])):\n",
        "                fila.append(self.matriz[i][j] - otra_matriz.matriz[i][j])\n",
        "            resultado.append(fila)\n",
        "        return MatrizCompleja(resultado)\n",
        "\n",
        "    def parse_complex(cadena):\n",
        "      partes = cadena.split(\"+\")\n",
        "      if len(partes) == 1:\n",
        "        partes = cadena.split(\"-\")\n",
        "        if len(partes) == 1:\n",
        "            return complex(float(partes[0]), 0)\n",
        "        else:\n",
        "            parte_real = float(partes[0])\n",
        "            parte_imaginaria = -float(partes[1][:-1])\n",
        "            return complex(parte_real, parte_imaginaria)\n",
        "      else:\n",
        "        parte_real = float(partes[0])\n",
        "        parte_imaginaria = float(partes[1][:-1])\n",
        "        return complex(parte_real, parte_imaginaria)\n",
        "\n",
        "# Ejemplo de uso\n",
        "# Creamos dos matrices complejas\n",
        "matriz1 = MatrizCompleja([[\"2-3i\", \"-i\"], [\"4\", \"-5+2i\"]])\n",
        "matriz2 = MatrizCompleja([[\"3\", \"2i\"], [\"1+i\", \"2\"]])\n",
        "\n",
        "# Imprimimos las matrices\n",
        "print(\"Matriz 1:\")\n",
        "print(matriz1)\n",
        "\n",
        "print(\"Matriz 2:\")\n",
        "print(matriz2)\n",
        "\n",
        "# Realizamos algunas operaciones\n",
        "print(\"Producto de matrices:\")\n",
        "print(matriz1 * matriz2)\n",
        "\n",
        "print(\"Producto de matriz por escalar:\")\n",
        "print(2 * matriz1)\n",
        "\n",
        "print(\"Suma de matrices:\")\n",
        "print(matriz1 + matriz2)\n",
        "\n",
        "print(\"Resta de matrices:\")\n",
        "print(matriz1 - matriz2)"
      ],
      "metadata": {
        "colab": {
          "base_uri": "https://localhost:8080/",
          "height": 356
        },
        "id": "4aGs62vFD6O1",
        "outputId": "5af4bfe4-4c32-44e6-b39e-2bcee9dab608"
      },
      "execution_count": 60,
      "outputs": [
        {
          "output_type": "error",
          "ename": "ValueError",
          "evalue": "ignored",
          "traceback": [
            "\u001b[0;31m---------------------------------------------------------------------------\u001b[0m",
            "\u001b[0;31mValueError\u001b[0m                                Traceback (most recent call last)",
            "\u001b[0;32m<ipython-input-60-0b2f8b393227>\u001b[0m in \u001b[0;36m<module>\u001b[0;34m\u001b[0m\n\u001b[1;32m     91\u001b[0m \u001b[0;31m# Ejemplo de uso\u001b[0m\u001b[0;34m\u001b[0m\u001b[0;34m\u001b[0m\u001b[0m\n\u001b[1;32m     92\u001b[0m \u001b[0;31m# Creamos dos matrices complejas\u001b[0m\u001b[0;34m\u001b[0m\u001b[0;34m\u001b[0m\u001b[0m\n\u001b[0;32m---> 93\u001b[0;31m \u001b[0mmatriz1\u001b[0m \u001b[0;34m=\u001b[0m \u001b[0mMatrizCompleja\u001b[0m\u001b[0;34m(\u001b[0m\u001b[0;34m[\u001b[0m\u001b[0;34m[\u001b[0m\u001b[0;34m\"2-3i\"\u001b[0m\u001b[0;34m,\u001b[0m \u001b[0;34m\"-i\"\u001b[0m\u001b[0;34m]\u001b[0m\u001b[0;34m,\u001b[0m \u001b[0;34m[\u001b[0m\u001b[0;34m\"4\"\u001b[0m\u001b[0;34m,\u001b[0m \u001b[0;34m\"-5+2i\"\u001b[0m\u001b[0;34m]\u001b[0m\u001b[0;34m]\u001b[0m\u001b[0;34m)\u001b[0m\u001b[0;34m\u001b[0m\u001b[0;34m\u001b[0m\u001b[0m\n\u001b[0m\u001b[1;32m     94\u001b[0m \u001b[0mmatriz2\u001b[0m \u001b[0;34m=\u001b[0m \u001b[0mMatrizCompleja\u001b[0m\u001b[0;34m(\u001b[0m\u001b[0;34m[\u001b[0m\u001b[0;34m[\u001b[0m\u001b[0;34m\"3\"\u001b[0m\u001b[0;34m,\u001b[0m \u001b[0;34m\"2i\"\u001b[0m\u001b[0;34m]\u001b[0m\u001b[0;34m,\u001b[0m \u001b[0;34m[\u001b[0m\u001b[0;34m\"1+i\"\u001b[0m\u001b[0;34m,\u001b[0m \u001b[0;34m\"2\"\u001b[0m\u001b[0;34m]\u001b[0m\u001b[0;34m]\u001b[0m\u001b[0;34m)\u001b[0m\u001b[0;34m\u001b[0m\u001b[0;34m\u001b[0m\u001b[0m\n\u001b[1;32m     95\u001b[0m \u001b[0;34m\u001b[0m\u001b[0m\n",
            "\u001b[0;32m<ipython-input-60-0b2f8b393227>\u001b[0m in \u001b[0;36m__init__\u001b[0;34m(self, matriz)\u001b[0m\n\u001b[1;32m     18\u001b[0m                             \u001b[0msigno\u001b[0m \u001b[0;34m=\u001b[0m \u001b[0;36m1\u001b[0m\u001b[0;34m\u001b[0m\u001b[0;34m\u001b[0m\u001b[0m\n\u001b[1;32m     19\u001b[0m                         \u001b[0;32mif\u001b[0m \u001b[0;34m\"i\"\u001b[0m \u001b[0;32min\u001b[0m \u001b[0mparte\u001b[0m\u001b[0;34m:\u001b[0m\u001b[0;34m\u001b[0m\u001b[0;34m\u001b[0m\u001b[0m\n\u001b[0;32m---> 20\u001b[0;31m                             \u001b[0mparte_imaginaria\u001b[0m \u001b[0;34m+=\u001b[0m \u001b[0msigno\u001b[0m \u001b[0;34m*\u001b[0m \u001b[0mfloat\u001b[0m\u001b[0;34m(\u001b[0m\u001b[0mparte\u001b[0m\u001b[0;34m[\u001b[0m\u001b[0;34m:\u001b[0m\u001b[0;34m-\u001b[0m\u001b[0;36m1\u001b[0m\u001b[0;34m]\u001b[0m\u001b[0;34m)\u001b[0m\u001b[0;34m\u001b[0m\u001b[0;34m\u001b[0m\u001b[0m\n\u001b[0m\u001b[1;32m     21\u001b[0m                         \u001b[0;32melse\u001b[0m\u001b[0;34m:\u001b[0m\u001b[0;34m\u001b[0m\u001b[0;34m\u001b[0m\u001b[0m\n\u001b[1;32m     22\u001b[0m                             \u001b[0mparte_real\u001b[0m \u001b[0;34m+=\u001b[0m \u001b[0msigno\u001b[0m \u001b[0;34m*\u001b[0m \u001b[0mfloat\u001b[0m\u001b[0;34m(\u001b[0m\u001b[0mparte\u001b[0m\u001b[0;34m)\u001b[0m\u001b[0;34m\u001b[0m\u001b[0;34m\u001b[0m\u001b[0m\n",
            "\u001b[0;31mValueError\u001b[0m: could not convert string to float: ''"
          ]
        }
      ]
    }
  ]
}